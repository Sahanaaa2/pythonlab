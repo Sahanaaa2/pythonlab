{
 "cells": [
  {
   "cell_type": "code",
   "execution_count": 3,
   "id": "7b486aaf",
   "metadata": {},
   "outputs": [
    {
     "name": "stdout",
     "output_type": "stream",
     "text": [
      "9\n",
      "Sahana\n",
      "SAHANA\n",
      "34.2\n"
     ]
    }
   ],
   "source": [
    "#implement a python program to illustrate operator overloading using dispatch\n",
    "\n",
    "from multipledispatch import dispatch\n",
    "@dispatch(int)\n",
    "def product(first):\n",
    "    result=first+6\n",
    "    print(result)\n",
    "product(3) \n",
    "@dispatch(str)\n",
    "def product(first):\n",
    "    result=first\n",
    "    print(result)\n",
    "product('Sahana')\n",
    "@dispatch(str,str)\n",
    "def product(first,second):\n",
    "    result=first+second\n",
    "    print(result)\n",
    "product('SAH','ANA')\n",
    "@dispatch(float,int,float)\n",
    "def product(first,second,third):\n",
    "    result=first+second+third\n",
    "    print(result)\n",
    "product(5.8,20,8.4)"
   ]
  },
  {
   "cell_type": "code",
   "execution_count": 11,
   "id": "b5f43b37",
   "metadata": {},
   "outputs": [
    {
     "name": "stdout",
     "output_type": "stream",
     "text": [
      "18\n",
      "Sahana\n",
      "AbAAbAAbAAbAAbA\n",
      "974.4000000000001\n"
     ]
    }
   ],
   "source": [
    "from multipledispatch import dispatch\n",
    "@dispatch(int)\n",
    "def product(first):\n",
    "    result=first*6\n",
    "    print(result)\n",
    "product(3) \n",
    "@dispatch(str)\n",
    "def product(first):\n",
    "    result=first\n",
    "    print(result)\n",
    "product('Sahana')\n",
    "@dispatch(str,int)\n",
    "def product(first,second):\n",
    "    result=first*second\n",
    "    print(result)\n",
    "product('AbA',5)\n",
    "@dispatch(float,int,float)\n",
    "def product(first,second,third):\n",
    "    result=first*second*third\n",
    "    print(result)\n",
    "product(5.8,20,8.4)\n",
    "#multiplying float with string and string with string and double with string is not possible"
   ]
  },
  {
   "cell_type": "code",
   "execution_count": null,
   "id": "0cbaa63d",
   "metadata": {},
   "outputs": [],
   "source": []
  }
 ],
 "metadata": {
  "kernelspec": {
   "display_name": "Python 3 (ipykernel)",
   "language": "python",
   "name": "python3"
  },
  "language_info": {
   "codemirror_mode": {
    "name": "ipython",
    "version": 3
   },
   "file_extension": ".py",
   "mimetype": "text/x-python",
   "name": "python",
   "nbconvert_exporter": "python",
   "pygments_lexer": "ipython3",
   "version": "3.9.7"
  }
 },
 "nbformat": 4,
 "nbformat_minor": 5
}
