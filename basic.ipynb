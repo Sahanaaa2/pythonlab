{
 "cells": [
  {
   "cell_type": "code",
   "execution_count": 1,
   "id": "774011c7",
   "metadata": {},
   "outputs": [
    {
     "name": "stdout",
     "output_type": "stream",
     "text": [
      "x=  10\n"
     ]
    }
   ],
   "source": [
    "x=10\n",
    "y=25\n",
    "print(\"x= \",x)"
   ]
  },
  {
   "cell_type": "code",
   "execution_count": 2,
   "id": "ecb38905",
   "metadata": {},
   "outputs": [
    {
     "name": "stdout",
     "output_type": "stream",
     "text": [
      "x= 1\n"
     ]
    }
   ],
   "source": [
    "x=1\n",
    "y=2\n",
    "print('x=',x)"
   ]
  },
  {
   "cell_type": "code",
   "execution_count": 3,
   "id": "06469be7",
   "metadata": {},
   "outputs": [
    {
     "name": "stdout",
     "output_type": "stream",
     "text": [
      "\"y=\" 2\n"
     ]
    }
   ],
   "source": [
    "x=1\n",
    "y=2\n",
    "print('\"y=\"',y)"
   ]
  },
  {
   "cell_type": "code",
   "execution_count": 4,
   "id": "eb1c0b0a",
   "metadata": {},
   "outputs": [
    {
     "name": "stdout",
     "output_type": "stream",
     "text": [
      "'y=' 2\n"
     ]
    }
   ],
   "source": [
    "x=2\n",
    "y=2\n",
    "print(\"'y='\",y)"
   ]
  },
  {
   "cell_type": "code",
   "execution_count": 10,
   "id": "5224ea8b",
   "metadata": {},
   "outputs": [
    {
     "name": "stdout",
     "output_type": "stream",
     "text": [
      "x= 2\n"
     ]
    }
   ],
   "source": [
    "x=2\n",
    "y=4\n",
    "print (\"x=\",x)"
   ]
  },
  {
   "cell_type": "code",
   "execution_count": 17,
   "id": "ef47feb4",
   "metadata": {},
   "outputs": [
    {
     "name": "stdout",
     "output_type": "stream",
     "text": [
      "I Love python\n"
     ]
    }
   ],
   "source": [
    "x='I'\n",
    "y=' Love'\n",
    "z=' python'\n",
    "print(x+y+z)"
   ]
  },
  {
   "cell_type": "code",
   "execution_count": 24,
   "id": "c6922105",
   "metadata": {},
   "outputs": [
    {
     "name": "stdout",
     "output_type": "stream",
     "text": [
      "I Love Python\n"
     ]
    }
   ],
   "source": [
    "x='I Love Python'\n",
    "print(x)"
   ]
  },
  {
   "cell_type": "code",
   "execution_count": 25,
   "id": "3dfd8b85",
   "metadata": {},
   "outputs": [
    {
     "name": "stdout",
     "output_type": "stream",
     "text": [
      "5\n"
     ]
    }
   ],
   "source": [
    "a=2\n",
    "b=3\n",
    "sum=a+b\n",
    "print(sum)"
   ]
  },
  {
   "cell_type": "code",
   "execution_count": 29,
   "id": "e4e9b8c8",
   "metadata": {},
   "outputs": [
    {
     "name": "stdout",
     "output_type": "stream",
     "text": [
      "a= 3 b= 3 c= 3\n"
     ]
    }
   ],
   "source": [
    "a=b=c=3\n",
    "print(\"a=\",a,\"b=\",b,\"c=\",c)"
   ]
  },
  {
   "cell_type": "code",
   "execution_count": 31,
   "id": "2fce9990",
   "metadata": {},
   "outputs": [
    {
     "name": "stdout",
     "output_type": "stream",
     "text": [
      "2\n"
     ]
    }
   ],
   "source": [
    "a=2\n",
    "print(a)"
   ]
  },
  {
   "cell_type": "code",
   "execution_count": 32,
   "id": "4d9dd9a2",
   "metadata": {},
   "outputs": [
    {
     "name": "stdout",
     "output_type": "stream",
     "text": [
      "10\n",
      "20\n",
      "30\n",
      "40\n"
     ]
    }
   ],
   "source": [
    "a=10\n",
    "b=20\n",
    "c=30\n",
    "d=40\n",
    "print(a)\n",
    "print(b)\n",
    "print(c)\n",
    "print(d)"
   ]
  },
  {
   "cell_type": "code",
   "execution_count": 40,
   "id": "1861d849",
   "metadata": {},
   "outputs": [
    {
     "name": "stdout",
     "output_type": "stream",
     "text": [
      "['a', 'b', 'c', 1, 2, 3]\n"
     ]
    }
   ],
   "source": [
    "list=['a','b','c',1,2,3]\n",
    "print(list)"
   ]
  },
  {
   "cell_type": "code",
   "execution_count": 39,
   "id": "2aacb5c3",
   "metadata": {},
   "outputs": [
    {
     "name": "stdout",
     "output_type": "stream",
     "text": [
      "{1, 2, 3, 'a'}\n"
     ]
    }
   ],
   "source": [
    "list={1,2,3,\"a\"}\n",
    "print(list)"
   ]
  },
  {
   "cell_type": "code",
   "execution_count": 44,
   "id": "21e6d952",
   "metadata": {},
   "outputs": [
    {
     "name": "stdout",
     "output_type": "stream",
     "text": [
      "student_name:  Sahana\n"
     ]
    }
   ],
   "source": [
    "student_name=\"Sahana\"\n",
    "print(\"student_name: \",student_name)"
   ]
  },
  {
   "cell_type": "code",
   "execution_count": 46,
   "id": "d72f88af",
   "metadata": {},
   "outputs": [
    {
     "name": "stdout",
     "output_type": "stream",
     "text": [
      "{'a': '1', 'b': '2'}\n"
     ]
    }
   ],
   "source": [
    "dictionary={\"a\":\"1\",\"b\":\"2\"}\n",
    "print(dictionary)"
   ]
  },
  {
   "cell_type": "code",
   "execution_count": 58,
   "id": "431f1d5c",
   "metadata": {},
   "outputs": [
    {
     "name": "stdout",
     "output_type": "stream",
     "text": [
      "{'p': 'python', 'a': '2'}\n"
     ]
    }
   ],
   "source": [
    "dictionary={\"p\":\"python\",\"a\":\"2\"}\n",
    "print(dictionary)"
   ]
  },
  {
   "cell_type": "code",
   "execution_count": 59,
   "id": "60124e21",
   "metadata": {},
   "outputs": [
    {
     "name": "stdout",
     "output_type": "stream",
     "text": [
      "(1, 2, 3)\n"
     ]
    }
   ],
   "source": [
    "numbers=(1,2,3)\n",
    "print(numbers)"
   ]
  },
  {
   "cell_type": "code",
   "execution_count": 61,
   "id": "74f321bb",
   "metadata": {},
   "outputs": [
    {
     "name": "stdout",
     "output_type": "stream",
     "text": [
      "Enter the radius value: 3.5\n",
      "The area of the circle is  38.465\n"
     ]
    }
   ],
   "source": [
    "# Area of the Circle\n",
    "radius=float(input(\"Enter the radius value: \"))\n",
    "pi=3.14\n",
    "area=pi*radius*radius\n",
    "print(\"The area of the circle is \",area)"
   ]
  },
  {
   "cell_type": "code",
   "execution_count": 69,
   "id": "0a03d0a3",
   "metadata": {},
   "outputs": [
    {
     "name": "stdout",
     "output_type": "stream",
     "text": [
      "Enter the radius value: 2.5\n",
      "The area of the circle is  19.634954084936208\n"
     ]
    }
   ],
   "source": [
    "# Area of the Circle\n",
    "import math\n",
    "radius=float(input(\"Enter the radius value: \"))\n",
    "area=radius*radius*math.pi\n",
    "print(\"The area of the circle is \",area)"
   ]
  },
  {
   "cell_type": "code",
   "execution_count": null,
   "id": "98128141",
   "metadata": {},
   "outputs": [],
   "source": [
    "# Area of the Circle\n",
    "import math\n",
    "radius=int(input(\"Enter the radius value: \"))\n",
    "area=radius*radius*math.pi\n",
    "print(\"The area of the circle is \",area)"
   ]
  },
  {
   "cell_type": "code",
   "execution_count": null,
   "id": "a7708dab",
   "metadata": {},
   "outputs": [],
   "source": [
    "# Area of the Triangle\n",
    "b=int(input(\"Enter the base value of triangle: \"))\n",
    "h=int(input(\"Enter the height value of triangle: \"))\n",
    "area=0.5*b*h\n",
    "print(\"The area of the triangle is \",area)"
   ]
  },
  {
   "cell_type": "code",
   "execution_count": null,
   "id": "eff0cafc",
   "metadata": {},
   "outputs": [],
   "source": []
  }
 ],
 "metadata": {
  "kernelspec": {
   "display_name": "Python 3 (ipykernel)",
   "language": "python",
   "name": "python3"
  },
  "language_info": {
   "codemirror_mode": {
    "name": "ipython",
    "version": 3
   },
   "file_extension": ".py",
   "mimetype": "text/x-python",
   "name": "python",
   "nbconvert_exporter": "python",
   "pygments_lexer": "ipython3",
   "version": "3.9.7"
  }
 },
 "nbformat": 4,
 "nbformat_minor": 5
}
