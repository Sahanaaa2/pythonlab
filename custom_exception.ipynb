{
 "cells": [
  {
   "cell_type": "code",
   "execution_count": 5,
   "id": "873b763f",
   "metadata": {},
   "outputs": [
    {
     "name": "stdout",
     "output_type": "stream",
     "text": [
      "Enter the number of elements in the list: 3\n",
      "Enter an integer: 45\n",
      "Enter an integer: 78\n",
      "Enter an integer: 0\n",
      "The list is  [45, 78, 0]\n"
     ]
    }
   ],
   "source": [
    "class customerror(Exception):\n",
    "    pass\n",
    "class example:\n",
    "    def __init__(self):\n",
    "        self.list1=[]\n",
    "    def calculate(self,value):\n",
    "        try:\n",
    "            if value>=0:\n",
    "                self.list1.append(value)\n",
    "            else:\n",
    "                raise customerror()\n",
    "        except customerror as e:\n",
    "            print(f\"{value} is not an integer\")\n",
    "    def display(self):\n",
    "        print(\"The list is \",self.list1)\n",
    "ex=example()\n",
    "n=int(input(\"Enter the number of elements in the list: \"))\n",
    "for i in range(n):\n",
    "    value=int(input(\"Enter an integer: \"))\n",
    "    ex.calculate(value)\n",
    "ex.display()"
   ]
  },
  {
   "cell_type": "markdown",
   "id": "a008fffe",
   "metadata": {},
   "source": []
  }
 ],
 "metadata": {
  "kernelspec": {
   "display_name": "Python 3 (ipykernel)",
   "language": "python",
   "name": "python3"
  },
  "language_info": {
   "codemirror_mode": {
    "name": "ipython",
    "version": 3
   },
   "file_extension": ".py",
   "mimetype": "text/x-python",
   "name": "python",
   "nbconvert_exporter": "python",
   "pygments_lexer": "ipython3",
   "version": "3.11.5"
  }
 },
 "nbformat": 4,
 "nbformat_minor": 5
}
