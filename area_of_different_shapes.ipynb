{
 "cells": [
  {
   "cell_type": "code",
   "execution_count": 4,
   "id": "f8f44df0",
   "metadata": {},
   "outputs": [
    {
     "name": "stdout",
     "output_type": "stream",
     "text": [
      "Enter the name of shape whose area you want to find triangle\n",
      "Enter the length value of triangle: 45\n",
      "Enter the base value of triangle: 78\n",
      "Enter the height value of triangle2\n",
      "The area of triangle is  78.0\n",
      "The perimeter of triangle is  125\n"
     ]
    }
   ],
   "source": [
    "import math\n",
    "def calculate_area(name):\n",
    "    name=name.lower()\n",
    "    if name==\"circle\":\n",
    "        radius=float(input(\"Enter the radius value: \"))\n",
    "        area=radius*radius*math.pi\n",
    "        perimeter=2*math.pi*radius\n",
    "        print(\"The area of the circle is \",area)\n",
    "        print(\"The perimeter of the circle is \",perimeter)\n",
    "    elif name==\"triangle\":\n",
    "        l=int(input(\"Enter the length value of triangle: \"))\n",
    "        b=int(input(\"Enter the base value of triangle: \"))\n",
    "        h=int(input(\"Enter the height value of triangle\"))\n",
    "        area=0.5*b*h\n",
    "        perimeter=l+b+h\n",
    "        print(\"The area of triangle is \",area)\n",
    "        print(\"The perimeter of triangle is \",perimeter)\n",
    "    elif name==\"rectangle\":\n",
    "        l=int(input(\"Enter the length value of rectangle: \"))\n",
    "        b=int(input(\"Enter the breadth value of rectangle: \"))\n",
    "        area=l*b   \n",
    "        perimeter=2*(l+b)\n",
    "        print(\"The area of the rectangle is \",area)\n",
    "        print(\"The perimeter of rectangle is \",perimeter)\n",
    "    else:\n",
    "        print(\"Sorry,the entered shape is not available!!!\")\n",
    "if __name__== \"__main__\":\n",
    "            shape_name=input(\"Enter the name of shape whose area you want to find \")\n",
    "            calculate_area(shape_name)"
   ]
  },
  {
   "cell_type": "code",
   "execution_count": null,
   "id": "ec2d607e",
   "metadata": {},
   "outputs": [],
   "source": []
  }
 ],
 "metadata": {
  "kernelspec": {
   "display_name": "Python 3 (ipykernel)",
   "language": "python",
   "name": "python3"
  },
  "language_info": {
   "codemirror_mode": {
    "name": "ipython",
    "version": 3
   },
   "file_extension": ".py",
   "mimetype": "text/x-python",
   "name": "python",
   "nbconvert_exporter": "python",
   "pygments_lexer": "ipython3",
   "version": "3.11.5"
  }
 },
 "nbformat": 4,
 "nbformat_minor": 5
}
