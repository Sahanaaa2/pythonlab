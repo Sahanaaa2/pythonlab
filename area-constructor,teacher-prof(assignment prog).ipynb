{
 "cells": [
  {
   "cell_type": "code",
   "execution_count": 12,
   "id": "b23e1121",
   "metadata": {},
   "outputs": [
    {
     "name": "stdout",
     "output_type": "stream",
     "text": [
      "Enter the raiud of the circle: 5\n",
      "Area:  78.53981633974483\n"
     ]
    }
   ],
   "source": [
    "import math\n",
    "class area:\n",
    "    def __init__(self,radius):\n",
    "        self.radius=radius\n",
    "    def calculate_area(self):\n",
    "        self.area=math.pi*radius*radius\n",
    "radius=int(input(\"Enter the raiud of the circle: \"))\n",
    "area1=area(radius)\n",
    "area1.calculate_area()\n",
    "print(\"Area: \",area1.area)"
   ]
  },
  {
   "cell_type": "code",
   "execution_count": 19,
   "id": "4ad0c28d",
   "metadata": {},
   "outputs": [
    {
     "name": "stdout",
     "output_type": "stream",
     "text": [
      "Enter the name: SWARNA\n",
      "Enter the subject : PYTHON\n",
      "Enter the salary: 74899\n",
      "Enter the name: NAFEESATH\n",
      "Enter the subject : AOS\n",
      "Enter the salary: 12335\n",
      "Enter the name: AMSHIKA\n",
      "Enter the subject : DCN\n",
      "Enter the salary: 78901\n",
      "Enter the name: CHANDHINI\n",
      "Enter the subject : ADS\n",
      "Enter the salary: 67890\n",
      "-------TEACHER----------\n",
      "NAME:  SWARNA\n",
      "SUBJECT:  PYTHON\n",
      "SALARY:  74899.0\n",
      "-------PROFESSOR----------\n",
      "NAME:  NAFEESATH\n",
      "SUBJECT:  AOS\n",
      "SALARY:  12335.0\n",
      "-------ASSOCIATE PROFESSOR----------\n",
      "NAME:  AMSHIKA\n",
      "SUBJECT:  DCN\n",
      "SALARY:  78901.0\n",
      "-------ASSISSTANT PROFESSOR----------\n",
      "NAME:  CHANDHINI\n",
      "SUBJECT:  ADS\n",
      "SALARY:  67890.0\n"
     ]
    }
   ],
   "source": [
    "class teacher:\n",
    "    def __init__(self,name,subject,salary):\n",
    "        self.name=name\n",
    "        self.subject=subject\n",
    "        self.salary=salary\n",
    "    def display(self):\n",
    "        print(\"NAME: \",self.name)\n",
    "        print(\"SUBJECT: \",self.subject)\n",
    "        print(\"SALARY: \",self.salary)\n",
    "class professor(teacher):\n",
    "    def __init__(self,name,subject,salary):\n",
    "        self.name=name\n",
    "        self.subject=subject\n",
    "        self.salary=salary\n",
    "class assc_professor(teacher):\n",
    "    def __init__(self,name,subject,salary):\n",
    "        self.name=name\n",
    "        self.subject=subject\n",
    "        self.salary=salary\n",
    "class asst_professor(teacher):\n",
    "    def __init__(self,name,subject,salary):\n",
    "        self.name=name\n",
    "        self.subject=subject\n",
    "        self.salary=salary\n",
    "name=[ ]\n",
    "subject=[ ]\n",
    "salary=[ ]\n",
    "for i in range(4):\n",
    "    name.append(input(\"Enter the name: \"))\n",
    "    subject.append(input(\"Enter the subject : \"))\n",
    "    salary.append(float(input(\"Enter the salary: \")))\n",
    "t=teacher(name[0],subject[0],salary[0])\n",
    "p=professor(name[1],subject[1],salary[1])\n",
    "assc=assc_professor(name[2],subject[2],salary[2])\n",
    "asst=asst_professor(name[3],subject[3],salary[3])\n",
    "print(\"-------TEACHER----------\")\n",
    "t.display()\n",
    "print(\"-------PROFESSOR----------\")\n",
    "p.display()\n",
    "print(\"-------ASSOCIATE PROFESSOR----------\")\n",
    "assc.display()\n",
    "print(\"-------ASSISSTANT PROFESSOR----------\")\n",
    "asst.display()"
   ]
  },
  {
   "cell_type": "code",
   "execution_count": null,
   "id": "0fef5058",
   "metadata": {},
   "outputs": [],
   "source": []
  }
 ],
 "metadata": {
  "kernelspec": {
   "display_name": "Python 3 (ipykernel)",
   "language": "python",
   "name": "python3"
  },
  "language_info": {
   "codemirror_mode": {
    "name": "ipython",
    "version": 3
   },
   "file_extension": ".py",
   "mimetype": "text/x-python",
   "name": "python",
   "nbconvert_exporter": "python",
   "pygments_lexer": "ipython3",
   "version": "3.9.7"
  }
 },
 "nbformat": 4,
 "nbformat_minor": 5
}
