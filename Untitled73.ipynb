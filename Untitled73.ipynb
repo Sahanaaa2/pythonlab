{
 "cells": [
  {
   "cell_type": "code",
   "execution_count": 5,
   "id": "4b08eb8b",
   "metadata": {},
   "outputs": [],
   "source": [
    "f=open(\"abc1.txt\",'r')\n"
   ]
  },
  {
   "cell_type": "code",
   "execution_count": 7,
   "id": "20f45460",
   "metadata": {},
   "outputs": [
    {
     "name": "stdout",
     "output_type": "stream",
     "text": [
      "Name of file:  abc1.txt\n"
     ]
    }
   ],
   "source": [
    "fo=open(\"abc1.txt\",\"w\")\n",
    "print(\"Name of file: \",fo.name)"
   ]
  },
  {
   "cell_type": "code",
   "execution_count": 13,
   "id": "6e650b07",
   "metadata": {},
   "outputs": [
    {
     "name": "stdout",
     "output_type": "stream",
     "text": [
      "Name of file:  abc1.txt\n",
      "Hello!!\n",
      "\n",
      " Welcome to Python.\n",
      "\n",
      "  Learn about Python files!!\n",
      "\n"
     ]
    }
   ],
   "source": [
    "fo=open(\"abc1.txt\",\"r\")\n",
    "print(\"Name of file: \",fo.name)\n",
    "for each in fo:\n",
    "    print(each)"
   ]
  },
  {
   "cell_type": "code",
   "execution_count": 16,
   "id": "fb1d06f7",
   "metadata": {},
   "outputs": [
    {
     "name": "stdout",
     "output_type": "stream",
     "text": [
      "Name of file:  abc1.txt\n"
     ]
    }
   ],
   "source": [
    "fo=open(\"abc1.txt\",\"w\")\n",
    "print(\"Name of file: \",fo.name)"
   ]
  },
  {
   "cell_type": "code",
   "execution_count": 27,
   "id": "75d8eea5",
   "metadata": {},
   "outputs": [
    {
     "name": "stdout",
     "output_type": "stream",
     "text": [
      "Name of file:  abc1.txt\n"
     ]
    },
    {
     "data": {
      "text/plain": [
       "<function TextIOWrapper.close()>"
      ]
     },
     "execution_count": 27,
     "metadata": {},
     "output_type": "execute_result"
    }
   ],
   "source": [
    "fo=open(\"abc1.txt\",\"r\")\n",
    "print(\"Name of file: \",fo.name)\n",
    "for each in fo:\n",
    "    print(each)"
   ]
  },
  {
   "cell_type": "code",
   "execution_count": 31,
   "id": "911b46e8",
   "metadata": {},
   "outputs": [
    {
     "name": "stdout",
     "output_type": "stream",
     "text": [
      "Name of the file::::::::  abc1.txt\n",
      "Closed or not:::::::::::  False\n",
      "openining mode::::::::::  r+\n"
     ]
    }
   ],
   "source": [
    "with open('abc1.txt', 'r+') as fo:\n",
    "    print('Name of the file:::::::: ', fo.name)\n",
    "    print('Closed or not::::::::::: ', fo.closed)\n",
    "    print('openining mode:::::::::: ', fo.mode)"
   ]
  },
  {
   "cell_type": "code",
   "execution_count": 6,
   "id": "f179edad",
   "metadata": {},
   "outputs": [
    {
     "data": {
      "text/plain": [
       "''"
      ]
     },
     "execution_count": 6,
     "metadata": {},
     "output_type": "execute_result"
    }
   ],
   "source": [
    "fo= open('abc1.txt','r')\n",
    "ln1=fo.readline()\n",
    "ln1"
   ]
  },
  {
   "cell_type": "code",
   "execution_count": 1,
   "id": "f664ec3c",
   "metadata": {},
   "outputs": [
    {
     "name": "stdout",
     "output_type": "stream",
     "text": [
      "Hell\n",
      "\n",
      " this is \n",
      "\n",
      " Python programming\n",
      "\n",
      "  with files\n"
     ]
    }
   ],
   "source": [
    "file = open('greet.txt', 'r')\n",
    "\n",
    "# This will print every line one by one in the file\n",
    "for each in file:\n",
    "\tprint (each)\n"
   ]
  },
  {
   "cell_type": "code",
   "execution_count": 2,
   "id": "098c77d9",
   "metadata": {},
   "outputs": [
    {
     "name": "stdout",
     "output_type": "stream",
     "text": [
      "Name of the file::::::::  greet.txt\n",
      "Closed or not:::::::::::  False\n",
      "openining mode::::::::::  a+\n"
     ]
    }
   ],
   "source": [
    "with open('greet.txt', 'a+') as fo:\n",
    "\n",
    "    print('Name of the file:::::::: ', fo.name)\n",
    "    print('Closed or not::::::::::: ', fo.closed)\n",
    "    print('openining mode:::::::::: ', fo.mode)\n"
   ]
  },
  {
   "cell_type": "code",
   "execution_count": 1,
   "id": "68d2da34",
   "metadata": {},
   "outputs": [
    {
     "data": {
      "text/plain": [
       "'Hello World,Welcome to python.......!!!'"
      ]
     },
     "execution_count": 1,
     "metadata": {},
     "output_type": "execute_result"
    }
   ],
   "source": [
    "f= open('greet.txt')\n",
    "ln1=f.readline()\n",
    "ln1"
   ]
  },
  {
   "cell_type": "code",
   "execution_count": 2,
   "id": "0412f3af",
   "metadata": {},
   "outputs": [
    {
     "name": "stdout",
     "output_type": "stream",
     "text": [
      "This is Python world,be ready for adventuring in Python!\n"
     ]
    }
   ],
   "source": [
    "f= open('greet.txt', 'r')\n",
    "for line in f:\n",
    "        # Do something with the line\n",
    "        print(line) "
   ]
  },
  {
   "cell_type": "code",
   "execution_count": 13,
   "id": "e9bfa175",
   "metadata": {},
   "outputs": [
    {
     "name": "stdout",
     "output_type": "stream",
     "text": [
      "PYTHON\n"
     ]
    }
   ],
   "source": [
    "txt=\"PYTHON\"\n",
    "x=txt.strip(\"T\")\n",
    "print(x)"
   ]
  },
  {
   "cell_type": "code",
   "execution_count": 20,
   "id": "df1314b9",
   "metadata": {},
   "outputs": [
    {
     "name": "stdout",
     "output_type": "stream",
     "text": [
      "PYTHON\n"
     ]
    }
   ],
   "source": [
    "txt=\"PYTHON\"\n",
    "x=txt.strip()\n",
    "print(x)"
   ]
  },
  {
   "cell_type": "code",
   "execution_count": 24,
   "id": "a9453113",
   "metadata": {},
   "outputs": [
    {
     "name": "stdout",
     "output_type": "stream",
     "text": [
      "PYTHO\n"
     ]
    }
   ],
   "source": [
    "txt=\"PYTHON\"\n",
    "x=txt.rstrip(\"N\")\n",
    "print(x)"
   ]
  },
  {
   "cell_type": "code",
   "execution_count": 26,
   "id": "23567ca6",
   "metadata": {},
   "outputs": [
    {
     "name": "stdout",
     "output_type": "stream",
     "text": [
      "This is Python world,be ready for adventuring in Python!\n"
     ]
    }
   ],
   "source": [
    "try:                                     #Find errors\n",
    "    f=open(\"abc1.txt\",\"r\")\n",
    "    print(f.readline())\n",
    "except:                                 #handle errors\n",
    "    print(\"File not found\")"
   ]
  },
  {
   "cell_type": "code",
   "execution_count": 27,
   "id": "2ddbd847",
   "metadata": {},
   "outputs": [
    {
     "name": "stdout",
     "output_type": "stream",
     "text": [
      "File not found\n"
     ]
    }
   ],
   "source": [
    "try:\n",
    "    f=open(\"abc2.txt\",\"r\")\n",
    "    print(f.readline())\n",
    "except:\n",
    "    print(\"File not found\")"
   ]
  },
  {
   "cell_type": "code",
   "execution_count": 32,
   "id": "d85e719a",
   "metadata": {},
   "outputs": [
    {
     "name": "stdout",
     "output_type": "stream",
     "text": [
      "File found\n",
      "This is Python world,be ready for adventuring in Python!\n"
     ]
    }
   ],
   "source": [
    "try:\n",
    "    f=open(\"abc1.txt\")\n",
    "except:\n",
    "    print(\"File not found\")\n",
    "else:                                    #execute when no error\n",
    "    print(\"File found\")\n",
    "    print(f.readline())"
   ]
  },
  {
   "cell_type": "code",
   "execution_count": 33,
   "id": "a8e8c6c3",
   "metadata": {},
   "outputs": [
    {
     "name": "stdout",
     "output_type": "stream",
     "text": [
      "File not found\n"
     ]
    }
   ],
   "source": [
    "try:\n",
    "    f=open(\"abc2.txt\")\n",
    "except:\n",
    "    print(\"File not found\")\n",
    "else:\n",
    "    print(\"File found\")\n",
    "    print(f.readline())"
   ]
  },
  {
   "cell_type": "code",
   "execution_count": 34,
   "id": "0832cd86",
   "metadata": {},
   "outputs": [
    {
     "name": "stdout",
     "output_type": "stream",
     "text": [
      "File found\n",
      "This is Python world,be ready for adventuring in Python!\n",
      "Completed!\n"
     ]
    }
   ],
   "source": [
    "try:\n",
    "    f=open(\"abc1.txt\")\n",
    "except:\n",
    "    print(\"File not found\")\n",
    "else:\n",
    "    print(\"File found\")\n",
    "    print(f.readline())\n",
    "finally:                                          #execute regardless of errors or error free\n",
    "    print(\"Completed!\")"
   ]
  },
  {
   "cell_type": "code",
   "execution_count": 35,
   "id": "20893247",
   "metadata": {},
   "outputs": [
    {
     "name": "stdout",
     "output_type": "stream",
     "text": [
      "File not found\n",
      "Completed!\n"
     ]
    }
   ],
   "source": [
    "try:\n",
    "    f=open(\"abc2.txt\")\n",
    "except:\n",
    "    print(\"File not found\")\n",
    "else:\n",
    "    print(\"File found\")\n",
    "    print(f.readline())\n",
    "finally:                                          #execute regardless of errors or error free\n",
    "    print(\"Completed!\")"
   ]
  },
  {
   "cell_type": "code",
   "execution_count": 8,
   "id": "13b6bf82",
   "metadata": {},
   "outputs": [
    {
     "ename": "Exception",
     "evalue": "No Error",
     "output_type": "error",
     "traceback": [
      "\u001b[1;31m---------------------------------------------------------------------------\u001b[0m",
      "\u001b[1;31mException\u001b[0m                                 Traceback (most recent call last)",
      "\u001b[1;32m~\\AppData\\Local\\Temp/ipykernel_8536/3737814145.py\u001b[0m in \u001b[0;36m<module>\u001b[1;34m\u001b[0m\n\u001b[0;32m      1\u001b[0m \u001b[0mx\u001b[0m \u001b[1;33m=\u001b[0m \u001b[1;36m2\u001b[0m\u001b[1;33m\u001b[0m\u001b[1;33m\u001b[0m\u001b[0m\n\u001b[0;32m      2\u001b[0m \u001b[1;32mif\u001b[0m \u001b[0mx\u001b[0m \u001b[1;33m>\u001b[0m \u001b[1;36m0\u001b[0m\u001b[1;33m:\u001b[0m\u001b[1;33m\u001b[0m\u001b[1;33m\u001b[0m\u001b[0m\n\u001b[1;32m----> 3\u001b[1;33m     \u001b[1;32mraise\u001b[0m \u001b[0mException\u001b[0m\u001b[1;33m(\u001b[0m\u001b[1;34m\"No Error\"\u001b[0m\u001b[1;33m)\u001b[0m\u001b[1;33m\u001b[0m\u001b[1;33m\u001b[0m\u001b[0m\n\u001b[0m",
      "\u001b[1;31mException\u001b[0m: No Error"
     ]
    }
   ],
   "source": [
    "x = 2\n",
    "if x > 0:\n",
    "    raise Exception(\"No Error\")"
   ]
  },
  {
   "cell_type": "code",
   "execution_count": 9,
   "id": "f1067886",
   "metadata": {},
   "outputs": [
    {
     "ename": "Exception",
     "evalue": "Error",
     "output_type": "error",
     "traceback": [
      "\u001b[1;31m---------------------------------------------------------------------------\u001b[0m",
      "\u001b[1;31mException\u001b[0m                                 Traceback (most recent call last)",
      "\u001b[1;32m~\\AppData\\Local\\Temp/ipykernel_8536/1307988328.py\u001b[0m in \u001b[0;36m<module>\u001b[1;34m\u001b[0m\n\u001b[0;32m      1\u001b[0m \u001b[0mx\u001b[0m \u001b[1;33m=\u001b[0m \u001b[1;33m-\u001b[0m\u001b[1;36m2\u001b[0m\u001b[1;33m\u001b[0m\u001b[1;33m\u001b[0m\u001b[0m\n\u001b[0;32m      2\u001b[0m \u001b[1;32mif\u001b[0m \u001b[0mx\u001b[0m \u001b[1;33m<=\u001b[0m \u001b[1;36m0\u001b[0m\u001b[1;33m:\u001b[0m\u001b[1;33m\u001b[0m\u001b[1;33m\u001b[0m\u001b[0m\n\u001b[1;32m----> 3\u001b[1;33m     \u001b[1;32mraise\u001b[0m \u001b[0mException\u001b[0m\u001b[1;33m(\u001b[0m\u001b[1;34m\"Error\"\u001b[0m\u001b[1;33m)\u001b[0m\u001b[1;33m\u001b[0m\u001b[1;33m\u001b[0m\u001b[0m\n\u001b[0m",
      "\u001b[1;31mException\u001b[0m: Error"
     ]
    }
   ],
   "source": [
    "x = -2\n",
    "if x <= 0:\n",
    "    raise Exception(\"Error\")"
   ]
  },
  {
   "cell_type": "code",
   "execution_count": 11,
   "id": "3df458fe",
   "metadata": {},
   "outputs": [
    {
     "name": "stdout",
     "output_type": "stream",
     "text": [
      "No error\n"
     ]
    }
   ],
   "source": [
    "x = 2\n",
    "if x < 0:\n",
    "    raise Exception(\"Error\")\n",
    "else:\n",
    "    print(\"No error\")                      #write program to read file,sort file,line count,word count,total no of char,no of repeated words"
   ]
  },
  {
   "cell_type": "code",
   "execution_count": 15,
   "id": "f4f8d97d",
   "metadata": {},
   "outputs": [
    {
     "name": "stdout",
     "output_type": "stream",
     "text": [
      "Total Lines 1\n"
     ]
    }
   ],
   "source": [
    "# open file in read mode\n",
    "with open(\"abc1.txt\", 'r') as f:\n",
    "    count = 0\n",
    "    for line in f:\n",
    "        if line != \"\\n\":\n",
    "            count += 1\n",
    "print('Total Lines', count)"
   ]
  },
  {
   "cell_type": "code",
   "execution_count": 7,
   "id": "694b5f71",
   "metadata": {},
   "outputs": [],
   "source": [
    "with open(\"abc1.txt\", \"w\") as f: \n",
    "\tf.write(\"Hello World.......!!!\\nThis is Python....\\nProgramming in Python...\\nUsing files...\")"
   ]
  },
  {
   "cell_type": "code",
   "execution_count": 8,
   "id": "34b5010b",
   "metadata": {},
   "outputs": [
    {
     "name": "stdout",
     "output_type": "stream",
     "text": [
      "Hello World.......!!!\n",
      "\n",
      "This is Python....\n",
      "\n",
      "Programming in Python...\n",
      "\n",
      "Using files...\n"
     ]
    }
   ],
   "source": [
    "f=open(\"abc1.txt\",\"r\")\n",
    "for each in f:\n",
    "    print(each)"
   ]
  },
  {
   "cell_type": "code",
   "execution_count": 9,
   "id": "067bad82",
   "metadata": {},
   "outputs": [
    {
     "name": "stdout",
     "output_type": "stream",
     "text": [
      "Total Lines 4\n"
     ]
    }
   ],
   "source": [
    "# open file in read mode\n",
    "with open(\"abc1.txt\", 'r') as f:\n",
    "    count = 0\n",
    "    for line in f:\n",
    "        if line != \"\\n\":\n",
    "            count += 1\n",
    "print('Total Lines', count)"
   ]
  }
 ],
 "metadata": {
  "kernelspec": {
   "display_name": "Python 3 (ipykernel)",
   "language": "python",
   "name": "python3"
  },
  "language_info": {
   "codemirror_mode": {
    "name": "ipython",
    "version": 3
   },
   "file_extension": ".py",
   "mimetype": "text/x-python",
   "name": "python",
   "nbconvert_exporter": "python",
   "pygments_lexer": "ipython3",
   "version": "3.9.7"
  }
 },
 "nbformat": 4,
 "nbformat_minor": 5
}
