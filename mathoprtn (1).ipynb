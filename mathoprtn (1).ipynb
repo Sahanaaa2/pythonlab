{
 "cells": [
  {
   "cell_type": "code",
   "execution_count": 1,
   "id": "1215813c",
   "metadata": {},
   "outputs": [
    {
     "name": "stdout",
     "output_type": "stream",
     "text": [
      "-------------------\n",
      "Menu driven program\n",
      "-------------------\n",
      "1. Addition\n",
      "2. Subtraction\n",
      "3. Multiplication\n",
      "4. Division\n",
      "5. Exit\n",
      "Enter your choice: 1\n",
      "Enter the a value: 232\n",
      "Enter the b value: 564\n",
      "The sum of two digits is:  796.0\n",
      "-------------------\n",
      "Menu driven program\n",
      "-------------------\n",
      "1. Addition\n",
      "2. Subtraction\n",
      "3. Multiplication\n",
      "4. Division\n",
      "5. Exit\n",
      "Enter your choice: 2\n",
      "Enter the a value: 565\n",
      "Enter the b value: 212\n",
      "The difference of two digits is:  353.0\n",
      "-------------------\n",
      "Menu driven program\n",
      "-------------------\n",
      "1. Addition\n",
      "2. Subtraction\n",
      "3. Multiplication\n",
      "4. Division\n",
      "5. Exit\n",
      "Enter your choice: 3\n",
      "Enter the a value: 45\n",
      "Enter the b value: 0\n",
      "The product of two digits is:  0.0\n",
      "-------------------\n",
      "Menu driven program\n",
      "-------------------\n",
      "1. Addition\n",
      "2. Subtraction\n",
      "3. Multiplication\n",
      "4. Division\n",
      "5. Exit\n",
      "Enter your choice: 4\n",
      "Enter the a value: 56\n",
      "Enter the b value: 34\n",
      "The quotient of two digits is:  1.6470588235294117\n",
      "-------------------\n",
      "Menu driven program\n",
      "-------------------\n",
      "1. Addition\n",
      "2. Subtraction\n",
      "3. Multiplication\n",
      "4. Division\n",
      "5. Exit\n",
      "Enter your choice: 5\n"
     ]
    }
   ],
   "source": [
    "def add(a,b):\n",
    "    return a+b\n",
    "def sub(a,b):\n",
    "    return a-b\n",
    "def mult(a,b):\n",
    "    return a*b\n",
    "def divide(a,b):\n",
    "    return a/b\n",
    "while(1):\n",
    "    print(\"-------------------\")\n",
    "    print(\"Menu driven program\")\n",
    "    print(\"-------------------\")\n",
    "    print(\"1. Addition\")\n",
    "    print(\"2. Subtraction\")\n",
    "    print(\"3. Multiplication\")\n",
    "    print(\"4. Division\")\n",
    "    print(\"5. Exit\")\n",
    "    choice=int(input(\"Enter your choice: \"))\n",
    "    if choice==1:\n",
    "        a=float(input(\"Enter the a value: \"))\n",
    "        b=float(input(\"Enter the b value: \"))\n",
    "        print(\"The sum of two digits is: \",add(a,b))\n",
    "    elif choice==2:\n",
    "        a=float(input(\"Enter the a value: \"))\n",
    "        b=float(input(\"Enter the b value: \"))\n",
    "        print(\"The difference of two digits is: \",sub(a,b))\n",
    "    elif choice==3:\n",
    "        a=float(input(\"Enter the a value: \"))\n",
    "        b=float(input(\"Enter the b value: \"))\n",
    "        print(\"The product of two digits is: \",mult(a,b))\n",
    "    elif choice==4:\n",
    "        a=float(input(\"Enter the a value: \"))\n",
    "        b=float(input(\"Enter the b value: \"))\n",
    "        print(\"The quotient of two digits is: \",divide(a,b))\n",
    "    elif choice==5:\n",
    "        break\n",
    "    else:\n",
    "        print(\"Invalid option! Try other numbers.\")"
   ]
  },
  {
   "cell_type": "code",
   "execution_count": 2,
   "id": "7a3ccb27",
   "metadata": {},
   "outputs": [
    {
     "name": "stdout",
     "output_type": "stream",
     "text": [
      "Enter the value: 34\n",
      "Sum=  2.7182818284590455\n"
     ]
    }
   ],
   "source": [
    "n=int(input(\"Enter the value: \"))\n",
    "sum=1\n",
    "for i in range(1,n+1):\n",
    "    fact=1\n",
    "    for j in range(1,i+1):\n",
    "        fact*=j\n",
    "    term=1/fact\n",
    "    sum+=term\n",
    "print(\"Sum= \",sum)"
   ]
  },
  {
   "cell_type": "code",
   "execution_count": null,
   "id": "0dce58f4",
   "metadata": {},
   "outputs": [],
   "source": []
  }
 ],
 "metadata": {
  "kernelspec": {
   "display_name": "Python 3 (ipykernel)",
   "language": "python",
   "name": "python3"
  },
  "language_info": {
   "codemirror_mode": {
    "name": "ipython",
    "version": 3
   },
   "file_extension": ".py",
   "mimetype": "text/x-python",
   "name": "python",
   "nbconvert_exporter": "python",
   "pygments_lexer": "ipython3",
   "version": "3.9.7"
  }
 },
 "nbformat": 4,
 "nbformat_minor": 5
}
