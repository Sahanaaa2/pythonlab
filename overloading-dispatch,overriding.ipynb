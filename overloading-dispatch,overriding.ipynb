{
 "cells": [
  {
   "cell_type": "code",
   "execution_count": 14,
   "id": "8feb7a26",
   "metadata": {},
   "outputs": [
    {
     "name": "stdout",
     "output_type": "stream",
     "text": [
      "5\n",
      "18\n",
      "18.2\n",
      "ab\n",
      "Sahana\n"
     ]
    }
   ],
   "source": [
    "#method overloading using dispatch\n",
    "from multipledispatch import dispatch\n",
    "@dispatch(int,int)\n",
    "def product(first,second):\n",
    "    result=first+second\n",
    "    print(result)\n",
    "product(2,3) \n",
    "@dispatch(int,int,int)\n",
    "def product(first,second,third):\n",
    "    result=first+second+third\n",
    "    print(result)\n",
    "product(5,6,7)\n",
    "@dispatch(int,int,float)\n",
    "def product(first,second,third):\n",
    "    result=first+second+third\n",
    "    print(result)\n",
    "product(5,6,7.2)\n",
    "@dispatch(str,str)\n",
    "def product(first,second):\n",
    "    result=first+second\n",
    "    print(result)\n",
    "product('a','b')\n",
    "@dispatch(str,str)\n",
    "def product(first,second):\n",
    "    result=first+second\n",
    "    print(result)\n",
    "product('Sah','ana')"
   ]
  },
  {
   "cell_type": "code",
   "execution_count": 19,
   "id": "1ee53ab6",
   "metadata": {},
   "outputs": [
    {
     "name": "stdout",
     "output_type": "stream",
     "text": [
      "600\n",
      "350\n"
     ]
    }
   ],
   "source": [
    "#method overloading without using dispatch\n",
    "class example:\n",
    "    def add(self,a=None,b=None,c=None):\n",
    "        x=0\n",
    "        if a!=None and b!=None and c!=None:\n",
    "            x=a+b+c\n",
    "        elif a!=None and b!=None and c==None:\n",
    "            x=a+b\n",
    "        return x\n",
    "obj=example()\n",
    "print(obj.add(100,200,300))\n",
    "print(obj.add(100,250))"
   ]
  },
  {
   "cell_type": "code",
   "execution_count": 20,
   "id": "043ca762",
   "metadata": {},
   "outputs": [
    {
     "name": "stdout",
     "output_type": "stream",
     "text": [
      "bowbow\n",
      "meooow\n"
     ]
    }
   ],
   "source": [
    "#method overriding\n",
    "class animal:\n",
    "    def sound(self):\n",
    "        return \"some genetic sound\"\n",
    "class Dog(animal):\n",
    "    def sound(self):\n",
    "        return \"bowbow\"\n",
    "class Cat(animal):\n",
    "    def sound(self):\n",
    "        return \"meooow\"\n",
    "Dogg=Dog()\n",
    "Catt=Cat()\n",
    "print(Dogg.sound())\n",
    "print(Catt.sound())"
   ]
  },
  {
   "cell_type": "code",
   "execution_count": null,
   "id": "a45f0836",
   "metadata": {},
   "outputs": [],
   "source": []
  }
 ],
 "metadata": {
  "kernelspec": {
   "display_name": "Python 3 (ipykernel)",
   "language": "python",
   "name": "python3"
  },
  "language_info": {
   "codemirror_mode": {
    "name": "ipython",
    "version": 3
   },
   "file_extension": ".py",
   "mimetype": "text/x-python",
   "name": "python",
   "nbconvert_exporter": "python",
   "pygments_lexer": "ipython3",
   "version": "3.9.7"
  }
 },
 "nbformat": 4,
 "nbformat_minor": 5
}
