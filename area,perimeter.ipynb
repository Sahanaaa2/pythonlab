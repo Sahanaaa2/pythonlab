{
 "cells": [
  {
   "cell_type": "code",
   "execution_count": 1,
   "id": "ea905605",
   "metadata": {},
   "outputs": [
    {
     "name": "stdout",
     "output_type": "stream",
     "text": [
      "Enter size:3\n",
      "Natural numbers are:\n",
      "1 2 3 \n",
      "the sum is 6\n"
     ]
    }
   ],
   "source": [
    "sum1=0\n",
    "i=1\n",
    "n=int(input(\"Enter size:\"))\n",
    "print(\"Natural numbers are:\")\n",
    "while(i<=n):\n",
    "    print(i,end=\" \")\n",
    "    sum1+=i;\n",
    "    i+=1;\n",
    "print(\"\\nthe sum is\",sum1)\n"
   ]
  },
  {
   "cell_type": "code",
   "execution_count": 2,
   "id": "ce765af4",
   "metadata": {},
   "outputs": [
    {
     "name": "stdout",
     "output_type": "stream",
     "text": [
      "Enter the size3\n",
      "Enter a element46\n",
      "Enter a element32\n",
      "Enter a element898\n",
      "[46, 32, 898]\n",
      "The second largest element in given list is: 46\n"
     ]
    }
   ],
   "source": [
    "list1=[]\n",
    "n=int(input(\"Enter the size\"))\n",
    "for i in range(n):\n",
    "    list1.append(int(input(\"Enter a element\")))\n",
    "print(list1)\n",
    "largest=0\n",
    "second_largest=0\n",
    "for i in list1:\n",
    "    if i > largest:\n",
    "        second_largest=largest\n",
    "        largest=i\n",
    "    elif i > second_largest and i<largest:\n",
    "        second_largest=i\n",
    "print(\"The second largest element in given list is:\",second_largest)"
   ]
  },
  {
   "cell_type": "code",
   "execution_count": null,
   "id": "7776f149",
   "metadata": {},
   "outputs": [],
   "source": [
    "n= int(input(\"Enter the value of n:\"))\n",
    "sumofseries=1\n",
    "for i in range(1,n+1):\n",
    "    fact=1\n",
    "    for j in range(1,i+1):\n",
    "        fact*=j\n",
    "    sumofseries +=1/fact\n",
    "print(\"the sum of given series is:{:.2f}\".format(sumofseries))\n",
    "\n"
   ]
  }
 ],
 "metadata": {
  "kernelspec": {
   "display_name": "Python 3 (ipykernel)",
   "language": "python",
   "name": "python3"
  },
  "language_info": {
   "codemirror_mode": {
    "name": "ipython",
    "version": 3
   },
   "file_extension": ".py",
   "mimetype": "text/x-python",
   "name": "python",
   "nbconvert_exporter": "python",
   "pygments_lexer": "ipython3",
   "version": "3.9.7"
  }
 },
 "nbformat": 4,
 "nbformat_minor": 5
}
