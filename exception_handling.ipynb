{
 "cells": [
  {
   "cell_type": "code",
   "execution_count": 2,
   "id": "2242d9f8",
   "metadata": {},
   "outputs": [
    {
     "name": "stdout",
     "output_type": "stream",
     "text": [
      "Result: 10\n"
     ]
    }
   ],
   "source": [
    "try:\n",
    "    result = 10 / 0               # This line will raise a ZeroDivisionError\n",
    "    print(\"Result:\", result)\n",
    "except ZeroDivisionError:\n",
    "    print(\"Cannot divide by zero!\")"
   ]
  },
  {
   "cell_type": "code",
   "execution_count": 5,
   "id": "9667b801",
   "metadata": {},
   "outputs": [
    {
     "name": "stdout",
     "output_type": "stream",
     "text": [
      "Enter a number: 0\n",
      "Math error occurred.\n"
     ]
    }
   ],
   "source": [
    "try:\n",
    "    value = int(input(\"Enter a number: \"))\n",
    "    result = 10 / value\n",
    "except ValueError:\n",
    "    print(\"Please enter a valid integer.\")\n",
    "except (ZeroDivisionError, OverflowError):\n",
    "    print(\"Math error occurred.\")"
   ]
  },
  {
   "cell_type": "code",
   "execution_count": 6,
   "id": "32489960",
   "metadata": {},
   "outputs": [
    {
     "name": "stdout",
     "output_type": "stream",
     "text": [
      "Enter your year of birth: 7465\n",
      "Error: Invalid year of birth. Year of birth must be in the past.\n"
     ]
    }
   ],
   "source": [
    "#Raising an exception\n",
    "def calculate_age(year_of_birth):\n",
    "    current_year = 2024 \n",
    "    age = current_year - year_of_birth\n",
    "\n",
    "    if age <= 0:\n",
    "        raise Exception(\"Invalid year of birth. Year of birth must be in the past.\")\n",
    "   \n",
    "    return age\n",
    "\n",
    "try:\n",
    "    year_of_birth = int(input(\"Enter your year of birth: \"))\n",
    "    age = calculate_age(year_of_birth)\n",
    "    print(\"You are {} years old.\".format(age))\n",
    "except  Exception as ve:\n",
    "    print(\"Error:\", ve)"
   ]
  },
  {
   "cell_type": "code",
   "execution_count": null,
   "id": "a7ebbc83",
   "metadata": {},
   "outputs": [
    {
     "name": "stdout",
     "output_type": "stream",
     "text": [
      "1.Division\n",
      "2.Display\n",
      "3.Concatination\n",
      "4.Exit\n"
     ]
    }
   ],
   "source": [
    "#Multiple exception\n",
    "def division(a,b):\n",
    "    try:\n",
    "        result=a/b\n",
    "        print(\"Result:\",result)\n",
    "    except ZeroDivisionError:\n",
    "        print(\"Denominator Cannot be Zero!\")\n",
    "    finally:\n",
    "        print(\"Division Function Executed Succesfully!\")\n",
    "def printList(list1):\n",
    "    print(\"5 list elements are:\")\n",
    "    try:\n",
    "        for i in range(5):\n",
    "            print(list1[i])\n",
    "    except IndexError as e:\n",
    "        print(e)\n",
    "def concatination(str1,str2):\n",
    "    try:\n",
    "        result=str1+str2\n",
    "        print (result)\n",
    "    except TypeError as e:\n",
    "        print(e)\n",
    "while(1):\n",
    "    print(\"1.Division\\n2.Display\\n3.Concatination\\n4.Exit\")\n",
    "    ch=input(\"ENter your choice:\")\n",
    "    if ch==\"1\":\n",
    "        a=int(input(\"Enter a Number: \"))\n",
    "        b=int(input(\"Enter a Number: \"))\n",
    "        division(a,b)\n",
    "    elif ch ==\"2\":\n",
    "        list1=[]\n",
    "        n=int(input(\"Enter a Size of list:\"))\n",
    "        for i in range(n):\n",
    "            list1.append(int(input(\"Enter number:\")))\n",
    "        printList(list1)\n",
    "    elif ch==\"3\":\n",
    "        str1=input(\"Enter a String:\")\n",
    "        str2=int(input(\"Enter Number:\"))\n",
    "        concatination(str1,str2)\n",
    "    elif ch==\"4\":\n",
    "        break"
   ]
  },
  {
   "cell_type": "code",
   "execution_count": null,
   "id": "9e7e1f62",
   "metadata": {},
   "outputs": [],
   "source": []
  }
 ],
 "metadata": {
  "kernelspec": {
   "display_name": "Python 3 (ipykernel)",
   "language": "python",
   "name": "python3"
  },
  "language_info": {
   "codemirror_mode": {
    "name": "ipython",
    "version": 3
   },
   "file_extension": ".py",
   "mimetype": "text/x-python",
   "name": "python",
   "nbconvert_exporter": "python",
   "pygments_lexer": "ipython3",
   "version": "3.9.7"
  }
 },
 "nbformat": 4,
 "nbformat_minor": 5
}
