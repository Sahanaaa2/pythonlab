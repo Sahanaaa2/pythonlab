{
 "cells": [
  {
   "cell_type": "code",
   "execution_count": 1,
   "id": "af932d30",
   "metadata": {},
   "outputs": [
    {
     "name": "stdout",
     "output_type": "stream",
     "text": [
      "Enter the number to select the shape: \n",
      "1.Circle\n",
      "2.Triangle\n",
      "3.Rectangle\n",
      "4.Square\n",
      "5.Exit\n",
      "Enter your choice 1,2,3,4,5 : 1\n",
      "Enter the length of Side 1 :23\n",
      "Enter the length of Side 2 :45\n",
      "Enter the length of Side 3 :67\n",
      "Perimeter of trinagle is  135\n"
     ]
    }
   ],
   "source": [
    "print(\"Enter the number to select the shape: \")\n",
    "print(\"1.Circle\")\n",
    "print(\"2.Triangle\")\n",
    "print(\"3.Rectangle\")\n",
    "print(\"4.Square\")\n",
    "print(\"5.Exit\")\n",
    "n = int(input(\"Enter your choice 1,2,3,4,5 : \"))\n",
    "if (n==1):\n",
    "    S1 = int(input(\"Enter the length of Side 1 :\"))\n",
    "    S2 = int(input(\"Enter the length of Side 2 :\" ))\n",
    "    S3 = int(input(\"Enter the length of Side 3 :\"))\n",
    "    print (\"Perimeter of trinagle is \",(S1+S2+S3))\n",
    "elif (n==2):\n",
    "    l = int(input(\"Enter the length of the rectangle : \"))\n",
    "    b = int(input(\"Enter the base of the rectangle : \"))\n",
    "    print(\"Perimeter of the rectangle is : \",(2*(l+b)))\n",
    "elif(n==3):\n",
    "    s = int(input(\"Enter the length of the side of square : \"))\n",
    "    print(\"Perimeter of square is \",(4*s))\n",
    "elif(n==4):\n",
    "    r = int(input(\"Enter the radius of the circle : \"))\n",
    "    print(\"Circumference of the circle is \",(2*3.14*r))\n",
    "elif(n==5):\n",
    "        exit\n",
    "else:\n",
    "    print(\"Invalid choice\")"
   ]
  },
  {
   "cell_type": "code",
   "execution_count": null,
   "id": "791cf07b",
   "metadata": {},
   "outputs": [],
   "source": []
  }
 ],
 "metadata": {
  "kernelspec": {
   "display_name": "Python 3 (ipykernel)",
   "language": "python",
   "name": "python3"
  },
  "language_info": {
   "codemirror_mode": {
    "name": "ipython",
    "version": 3
   },
   "file_extension": ".py",
   "mimetype": "text/x-python",
   "name": "python",
   "nbconvert_exporter": "python",
   "pygments_lexer": "ipython3",
   "version": "3.9.7"
  }
 },
 "nbformat": 4,
 "nbformat_minor": 5
}
