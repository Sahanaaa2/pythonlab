{
 "cells": [
  {
   "cell_type": "code",
   "execution_count": 4,
   "id": "b4e59984",
   "metadata": {},
   "outputs": [
    {
     "name": "stdout",
     "output_type": "stream",
     "text": [
      "            date  precipitation  temp_max  temp_min  wind  weather\n",
      "0     2012-01-01            0.0      12.8       5.0   4.7  drizzle\n",
      "1     2012-01-02           10.9      10.6       2.8   4.5     rain\n",
      "2     2012-01-03            0.8      11.7       7.2   2.3     rain\n",
      "3     2012-01-04           20.3      12.2       5.6   4.7     rain\n",
      "4     2012-01-05            1.3       8.9       2.8   6.1     rain\n",
      "...          ...            ...       ...       ...   ...      ...\n",
      "1456  2015-12-27            8.6       4.4       1.7   2.9     rain\n",
      "1457  2015-12-28            1.5       5.0       1.7   1.3     rain\n",
      "1458  2015-12-29            0.0       7.2       0.6   2.6      fog\n",
      "1459  2015-12-30            0.0       5.6      -1.0   3.4      sun\n",
      "1460  2015-12-31            0.0       5.6      -2.1   3.5      sun\n",
      "\n",
      "[1461 rows x 6 columns]\n"
     ]
    }
   ],
   "source": [
    "import pandas as pd\n",
    "s=pd.read_csv(\"seattle-weather.csv\",sep=',')\n",
    "print(s)"
   ]
  },
  {
   "cell_type": "code",
   "execution_count": 5,
   "id": "38deb631",
   "metadata": {},
   "outputs": [
    {
     "name": "stdout",
     "output_type": "stream",
     "text": [
      "      Unnamed: 0  Order        PID  MS SubClass MS Zoning  Lot Frontage  \\\n",
      "0              0      1  526301100           20        RL         141.0   \n",
      "1              1      2  526350040           20        RH          80.0   \n",
      "2              2      3  526351010           20        RL          81.0   \n",
      "3              3      4  526353030           20        RL          93.0   \n",
      "4              4      5  527105010           60        RL          74.0   \n",
      "...          ...    ...        ...          ...       ...           ...   \n",
      "2925        2925   2926  923275080           80        RL          37.0   \n",
      "2926        2926   2927  923276100           20        RL           NaN   \n",
      "2927        2927   2928  923400125           85        RL          62.0   \n",
      "2928        2928   2929  924100070           20        RL          77.0   \n",
      "2929        2929   2930  924151050           60        RL          74.0   \n",
      "\n",
      "      Lot Area Street Alley Lot Shape  ... Pool Area Pool QC  Fence  \\\n",
      "0        31770   Pave   NaN       IR1  ...         0     NaN    NaN   \n",
      "1        11622   Pave   NaN       Reg  ...         0     NaN  MnPrv   \n",
      "2        14267   Pave   NaN       IR1  ...         0     NaN    NaN   \n",
      "3        11160   Pave   NaN       Reg  ...         0     NaN    NaN   \n",
      "4        13830   Pave   NaN       IR1  ...         0     NaN  MnPrv   \n",
      "...        ...    ...   ...       ...  ...       ...     ...    ...   \n",
      "2925      7937   Pave   NaN       IR1  ...         0     NaN  GdPrv   \n",
      "2926      8885   Pave   NaN       IR1  ...         0     NaN  MnPrv   \n",
      "2927     10441   Pave   NaN       Reg  ...         0     NaN  MnPrv   \n",
      "2928     10010   Pave   NaN       Reg  ...         0     NaN    NaN   \n",
      "2929      9627   Pave   NaN       Reg  ...         0     NaN    NaN   \n",
      "\n",
      "     Misc Feature Misc Val Mo Sold Yr Sold Sale Type Sale Condition  SalePrice  \n",
      "0             NaN        0       5    2010       WD          Normal     215000  \n",
      "1             NaN        0       6    2010       WD          Normal     105000  \n",
      "2            Gar2    12500       6    2010       WD          Normal     172000  \n",
      "3             NaN        0       4    2010       WD          Normal     244000  \n",
      "4             NaN        0       3    2010       WD          Normal     189900  \n",
      "...           ...      ...     ...     ...       ...            ...        ...  \n",
      "2925          NaN        0       3    2006       WD          Normal     142500  \n",
      "2926          NaN        0       6    2006       WD          Normal     131000  \n",
      "2927         Shed      700       7    2006       WD          Normal     132000  \n",
      "2928          NaN        0       4    2006       WD          Normal     170000  \n",
      "2929          NaN        0      11    2006       WD          Normal     188000  \n",
      "\n",
      "[2930 rows x 83 columns]\n"
     ]
    }
   ],
   "source": [
    "import pandas as pd\n",
    "s=pd.read_csv(\"housing.csv\",sep=',')\n",
    "print(s)"
   ]
  },
  {
   "cell_type": "code",
   "execution_count": 6,
   "id": "9e904f84",
   "metadata": {},
   "outputs": [
    {
     "name": "stdout",
     "output_type": "stream",
     "text": [
      "                               Name Platform    Year     Genre  \\\n",
      "0                           Kaboom!     2600  1980.0      Misc   \n",
      "1                            Boxing     2600  1980.0  Fighting   \n",
      "2                        Ice Hockey     2600  1980.0    Sports   \n",
      "3                           Freeway     2600  1980.0    Action   \n",
      "4                            Bridge     2600  1980.0      Misc   \n",
      "...                             ...      ...     ...       ...   \n",
      "16534  LEGO Harry Potter: Years 5-7       PC     NaN    Action   \n",
      "16535                Happy Feet Two       DS     NaN    Action   \n",
      "16536                Happy Feet Two      PS3     NaN    Action   \n",
      "16537                Happy Feet Two     X360     NaN    Action   \n",
      "16538                Happy Feet Two      Wii     NaN    Action   \n",
      "\n",
      "                                    Publisher  NA_Sales  EU_Sales  JP_Sales  \\\n",
      "0                                  Activision      1.07      0.07       0.0   \n",
      "1                                  Activision      0.72      0.04       0.0   \n",
      "2                                  Activision      0.46      0.03       0.0   \n",
      "3                                  Activision      0.32      0.02       0.0   \n",
      "4                                  Activision      0.25      0.02       0.0   \n",
      "...                                       ...       ...       ...       ...   \n",
      "16534  Warner Bros. Interactive Entertainment      0.05      0.14       0.0   \n",
      "16535  Warner Bros. Interactive Entertainment      0.09      0.02       0.0   \n",
      "16536  Warner Bros. Interactive Entertainment      0.09      0.01       0.0   \n",
      "16537  Warner Bros. Interactive Entertainment      0.08      0.01       0.0   \n",
      "16538  Warner Bros. Interactive Entertainment      0.07      0.01       0.0   \n",
      "\n",
      "       Other_Sales  Global_Sales  \n",
      "0             0.01          1.15  \n",
      "1             0.01          0.77  \n",
      "2             0.01          0.49  \n",
      "3             0.00          0.34  \n",
      "4             0.00          0.27  \n",
      "...            ...           ...  \n",
      "16534         0.03          0.22  \n",
      "16535         0.01          0.12  \n",
      "16536         0.01          0.10  \n",
      "16537         0.01          0.10  \n",
      "16538         0.01          0.09  \n",
      "\n",
      "[16539 rows x 10 columns]\n"
     ]
    }
   ],
   "source": [
    "import pandas as pd\n",
    "s=pd.read_csv(\"vgsales.csv\",sep=',')\n",
    "print(s)"
   ]
  },
  {
   "cell_type": "code",
   "execution_count": null,
   "id": "a36def95",
   "metadata": {},
   "outputs": [],
   "source": []
  }
 ],
 "metadata": {
  "kernelspec": {
   "display_name": "Python 3 (ipykernel)",
   "language": "python",
   "name": "python3"
  },
  "language_info": {
   "codemirror_mode": {
    "name": "ipython",
    "version": 3
   },
   "file_extension": ".py",
   "mimetype": "text/x-python",
   "name": "python",
   "nbconvert_exporter": "python",
   "pygments_lexer": "ipython3",
   "version": "3.9.7"
  }
 },
 "nbformat": 4,
 "nbformat_minor": 5
}
