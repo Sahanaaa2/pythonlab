{
  "cells": [
    {
      "cell_type": "markdown",
      "metadata": {
        "id": "view-in-github",
        "colab_type": "text"
      },
      "source": [
        "<a href=\"https://colab.research.google.com/github/Sahanaaa2/pythonlab/blob/main/Untitled7.ipynb\" target=\"_parent\"><img src=\"https://colab.research.google.com/assets/colab-badge.svg\" alt=\"Open In Colab\"/></a>"
      ]
    },
    {
      "cell_type": "code",
      "execution_count": null,
      "id": "c278ac8d",
      "metadata": {
        "id": "c278ac8d",
        "outputId": "537ddc9f-9608-487b-990b-9fb54c0f0d29"
      },
      "outputs": [
        {
          "name": "stdout",
          "output_type": "stream",
          "text": [
            "Hello World.\n"
          ]
        }
      ],
      "source": [
        "print(\"Hello World.\")"
      ]
    },
    {
      "cell_type": "code",
      "execution_count": 8,
      "id": "b1c2b552",
      "metadata": {
        "colab": {
          "base_uri": "https://localhost:8080/"
        },
        "id": "b1c2b552",
        "outputId": "782074ff-d264-44e0-a635-c97cf40ee981"
      },
      "outputs": [
        {
          "output_type": "stream",
          "name": "stdout",
          "text": [
            "a=  1\n"
          ]
        }
      ],
      "source": [
        "a=1;\n",
        "b=2;\n",
        "if(a<=b):\n",
        " print(\"a= \",a);\n",
        "else:\n",
        " print(\"b= \",b);"
      ]
    }
  ],
  "metadata": {
    "kernelspec": {
      "display_name": "Python 3 (ipykernel)",
      "language": "python",
      "name": "python3"
    },
    "language_info": {
      "codemirror_mode": {
        "name": "ipython",
        "version": 3
      },
      "file_extension": ".py",
      "mimetype": "text/x-python",
      "name": "python",
      "nbconvert_exporter": "python",
      "pygments_lexer": "ipython3",
      "version": "3.9.7"
    },
    "colab": {
      "provenance": [],
      "include_colab_link": true
    }
  },
  "nbformat": 4,
  "nbformat_minor": 5
}