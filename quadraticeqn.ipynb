{
 "cells": [
  {
   "cell_type": "code",
   "execution_count": 7,
   "id": "1941be11",
   "metadata": {},
   "outputs": [
    {
     "name": "stdout",
     "output_type": "stream",
     "text": [
      "Enter the value for a: 2\n",
      "Enter the value for b: 3\n",
      "Enter the value for c: 4\n",
      "This equtaion has no real solution.\n"
     ]
    }
   ],
   "source": [
    "import math\n",
    "a=int(input(\"Enter the value for a: \"))\n",
    "b=int(input(\"Enter the value for b: \"))\n",
    "c=int(input(\"Enter the value for c: \"))\n",
    "d=(b**2)-(4*a*c) \n",
    "if d<0:\n",
    "    print(\"This equtaion has no real solution.\")\n",
    "elif d==0:\n",
    "    s=(-b+math.sqrt(d))/(2*a)\n",
    "    print(\"This equation has only one solution. \",s)\n",
    "else:\n",
    "    s1=(-b-math.sqrt(d))/(2*a)\n",
    "    s2=(-b+math.sqrt(d))/(2*a)\n",
    "    print(\"The two solutions of the given equation are: \",s1,s2)"
   ]
  },
  {
   "cell_type": "code",
   "execution_count": 14,
   "id": "da3cb0a1",
   "metadata": {},
   "outputs": [
    {
     "name": "stdout",
     "output_type": "stream",
     "text": [
      "Enter the value for a: 2\n",
      "Enter the value for b: 9\n",
      "Enter the value for c: 2\n",
      "The two solutions of the given equation are:  -0.23443556292536272  and  -4.265564437074637\n"
     ]
    }
   ],
   "source": [
    "import math\n",
    "a=int(input(\"Enter the value for a: \"))\n",
    "b=int(input(\"Enter the value for b: \"))\n",
    "c=int(input(\"Enter the value for c: \"))\n",
    "d=(b**2)-(4*a*c) \n",
    "if d<0:\n",
    "    print(\"This equtaion has no real solution.\")\n",
    "elif d==0:\n",
    "    s=(-b+math.sqrt(d))/(2*a)\n",
    "    print(\"This equation has only one solution. \",s)\n",
    "else:\n",
    "    s1=(-b+math.sqrt(d))/(2*a)\n",
    "    s2=(-b-math.sqrt(d))/(2*a)\n",
    "    print(\"The two solutions of the given equation are: \",s1,\" and \",s2)"
   ]
  },
  {
   "cell_type": "code",
   "execution_count": 22,
   "id": "52ccef60",
   "metadata": {},
   "outputs": [
    {
     "name": "stdout",
     "output_type": "stream",
     "text": [
      "Enter the value for a: 1\n",
      "Enter the value for b: 2\n",
      "Enter the value for c: 1\n",
      "This equation has only one solution.  -1.0\n"
     ]
    }
   ],
   "source": [
    "import math\n",
    "a=int(input(\"Enter the value for a: \"))\n",
    "b=int(input(\"Enter the value for b: \"))\n",
    "c=int(input(\"Enter the value for c: \"))\n",
    "d=(b**2)-(4*a*c) \n",
    "if d<0:\n",
    "    print(\"This equtaion has no real solution.\")\n",
    "elif d==0:\n",
    "    s=(-b+math.sqrt(d))/(2*a)\n",
    "    print(\"This equation has only one solution. \",s)\n",
    "else:\n",
    "    s1=(-b-math.sqrt(d))/(2*a)\n",
    "    s2=(-b+math.sqrt(d))/(2*a)\n",
    "    print(\"The two solutions of the given equation are: \",s1,s2)"
   ]
  },
  {
   "cell_type": "code",
   "execution_count": 28,
   "id": "49d6fa05",
   "metadata": {},
   "outputs": [
    {
     "name": "stdout",
     "output_type": "stream",
     "text": [
      "Enter the value for a: 0\n",
      "Enter the value for b: 0\n",
      "Enter the value for c: 0\n",
      "This equation has only one solution.  0.0\n"
     ]
    }
   ],
   "source": [
    "import math\n",
    "a=int(input(\"Enter the value for a: \"))\n",
    "b=int(input(\"Enter the value for b: \"))\n",
    "c=int(input(\"Enter the value for c: \"))\n",
    "d=(b**2)-(4*a*c) \n",
    "if d<0:\n",
    "    print(\"This equtaion has no real solution.\")\n",
    "elif d==0:\n",
    "    s=(-b+math.sqrt(d))/2*a\n",
    "    print(\"This equation has only one solution. \",s)\n",
    "else:\n",
    "    s1=(-b-math.sqrt(d))/(2*a)\n",
    "    s2=(-b+math.sqrt(d))/(2*a)\n",
    "    print(\"The two solutions of the given equation are: \",s1,s2)"
   ]
  },
  {
   "cell_type": "code",
   "execution_count": 29,
   "id": "b049c60d",
   "metadata": {},
   "outputs": [
    {
     "name": "stdout",
     "output_type": "stream",
     "text": [
      "Enter the value for a: 8\n",
      "Enter the value for b: 8\n",
      "Enter the value for c: 8\n",
      "This equtaion has no real solution.\n"
     ]
    }
   ],
   "source": [
    "import math\n",
    "a=int(input(\"Enter the value for a: \"))\n",
    "b=int(input(\"Enter the value for b: \"))\n",
    "c=int(input(\"Enter the value for c: \"))\n",
    "d=(b**2)-(4*a*c) \n",
    "if d<0:\n",
    "    print(\"This equtaion has no real solution.\")\n",
    "elif d==0:\n",
    "    s=(-b+math.sqrt(d))/2*a\n",
    "    print(\"This equation has only one solution. \",s)\n",
    "else:\n",
    "    s1=(-b-math.sqrt(d))/(2*a)\n",
    "    s2=(-b+math.sqrt(d))/(2*a)\n",
    "    print(\"The two solutions of the given equation are: \",s1,s2)"
   ]
  },
  {
   "cell_type": "code",
   "execution_count": 30,
   "id": "5e8da682",
   "metadata": {},
   "outputs": [
    {
     "name": "stdout",
     "output_type": "stream",
     "text": [
      "True\n"
     ]
    }
   ],
   "source": [
    "s=[\"badam\",\"pista\",\"dates\"]\n",
    "print(any(s))"
   ]
  },
  {
   "cell_type": "code",
   "execution_count": 31,
   "id": "146d5b95",
   "metadata": {},
   "outputs": [
    {
     "name": "stdout",
     "output_type": "stream",
     "text": [
      "True\n"
     ]
    }
   ],
   "source": [
    "list1=[1,2,3,4,5]\n",
    "x=any(list1)\n",
    "print(x)"
   ]
  },
  {
   "cell_type": "code",
   "execution_count": 33,
   "id": "49eb495e",
   "metadata": {},
   "outputs": [
    {
     "name": "stdout",
     "output_type": "stream",
     "text": [
      "True\n"
     ]
    }
   ],
   "source": [
    "list1=[1,2,0]\n",
    "x=any(list1)\n",
    "print(x)"
   ]
  },
  {
   "cell_type": "code",
   "execution_count": 34,
   "id": "10e0d8b4",
   "metadata": {},
   "outputs": [
    {
     "name": "stdout",
     "output_type": "stream",
     "text": [
      "False\n"
     ]
    }
   ],
   "source": [
    "list1=[0,0,0,0]\n",
    "x=any(list1)\n",
    "print(x)"
   ]
  },
  {
   "cell_type": "code",
   "execution_count": 35,
   "id": "0d80957e",
   "metadata": {},
   "outputs": [
    {
     "name": "stdout",
     "output_type": "stream",
     "text": [
      "True\n"
     ]
    }
   ],
   "source": [
    "list1=[1,2,3,4,5]\n",
    "x=all(list1)\n",
    "print(x)"
   ]
  },
  {
   "cell_type": "code",
   "execution_count": 37,
   "id": "fc0273e3",
   "metadata": {},
   "outputs": [
    {
     "name": "stdout",
     "output_type": "stream",
     "text": [
      "False\n"
     ]
    }
   ],
   "source": [
    "list1=[1,2,3,4,5,0]\n",
    "x=all(list1)\n",
    "print(x)"
   ]
  },
  {
   "cell_type": "code",
   "execution_count": 39,
   "id": "5d96ba3d",
   "metadata": {},
   "outputs": [
    {
     "name": "stdout",
     "output_type": "stream",
     "text": [
      "True\n"
     ]
    }
   ],
   "source": [
    "list1=[-1,2,3,4,5]\n",
    "x=all(list1)\n",
    "print(x)"
   ]
  },
  {
   "cell_type": "code",
   "execution_count": 40,
   "id": "b90dca7d",
   "metadata": {},
   "outputs": [
    {
     "name": "stdout",
     "output_type": "stream",
     "text": [
      "False\n"
     ]
    }
   ],
   "source": [
    "list1=[1,2,3,4,-5,0]\n",
    "x=all(list1)\n",
    "print(x)"
   ]
  },
  {
   "cell_type": "code",
   "execution_count": 41,
   "id": "acc08691",
   "metadata": {},
   "outputs": [
    {
     "name": "stdout",
     "output_type": "stream",
     "text": [
      "[(1, 67), (2, 35), (3, 13)]\n"
     ]
    }
   ],
   "source": [
    "list1=[1,2,3,4,5]\n",
    "list2=[67,35,13]\n",
    "list3=zip(list1,list2)\n",
    "print(list(list3))"
   ]
  },
  {
   "cell_type": "code",
   "execution_count": null,
   "id": "3b12e892",
   "metadata": {},
   "outputs": [],
   "source": []
  }
 ],
 "metadata": {
  "kernelspec": {
   "display_name": "Python 3 (ipykernel)",
   "language": "python",
   "name": "python3"
  },
  "language_info": {
   "codemirror_mode": {
    "name": "ipython",
    "version": 3
   },
   "file_extension": ".py",
   "mimetype": "text/x-python",
   "name": "python",
   "nbconvert_exporter": "python",
   "pygments_lexer": "ipython3",
   "version": "3.9.7"
  }
 },
 "nbformat": 4,
 "nbformat_minor": 5
}
